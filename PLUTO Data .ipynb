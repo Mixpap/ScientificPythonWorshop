{
 "cells": [
  {
   "cell_type": "code",
   "execution_count": 1,
   "metadata": {
    "collapsed": true
   },
   "outputs": [],
   "source": [
    "import numpy as np\n",
    "import pyPLUTO as pp\n",
    "from astropy.io import ascii\n",
    "import os\n",
    "import sys\n",
    "from ipywidgets import interactive, widgets,fixed\n",
    "from IPython.display import Audio, display\n",
    "%matplotlib inline\n",
    "import matplotlib.pyplot as plt\n",
    "import matplotlib as mpl\n",
    "import matplotlib.gridspec as gridspec\n",
    "import matplotlib.ticker as ticker\n",
    "from matplotlib import rc,rcParams\n",
    "from scipy.integrate import quad\n",
    "rc('text', usetex=True)\n",
    "rcParams['figure.figsize'] = (15., 6.0)\n",
    "rcParams['ytick.labelsize'],rcParams['xtick.labelsize'] = 17.,17.\n",
    "rcParams['axes.labelsize']=19.\n",
    "rcParams['legend.fontsize']=17.\n",
    "rcParams['text.latex.preamble'] = ['\\\\usepackage{siunitx}']"
   ]
  },
  {
   "cell_type": "code",
   "execution_count": 6,
   "metadata": {
    "collapsed": false
   },
   "outputs": [
    {
     "name": "stdout",
     "output_type": "stream",
     "text": [
      "/home/astromix/astro/PythonWorshop\n",
      "/home/astromix/astro/PythonWorshop/\n",
      "PythonWorshop\n"
     ]
    }
   ],
   "source": [
    "t0=1000000000.0\n",
    "second_to_yrs=3.17e-8\n",
    "cwd=os.getcwd()\n",
    "print cwd\n",
    "wdir=cwd+'/'\n",
    "print wdir\n",
    "outdir=cwd[cwd.rfind('/')+1:]\n",
    "print outdir"
   ]
  }
 ],
 "metadata": {
  "kernelspec": {
   "display_name": "Python 2",
   "language": "python",
   "name": "python2"
  },
  "language_info": {
   "codemirror_mode": {
    "name": "ipython",
    "version": 2
   },
   "file_extension": ".py",
   "mimetype": "text/x-python",
   "name": "python",
   "nbconvert_exporter": "python",
   "pygments_lexer": "ipython2",
   "version": "2.7.12+"
  }
 },
 "nbformat": 4,
 "nbformat_minor": 2
}
