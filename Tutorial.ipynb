{
 "cells": [
  {
   "cell_type": "markdown",
   "metadata": {},
   "source": [
    "# Μια επίδειξη των δυνατοτήτων της Python με εφαρμογές στον επιστημονικό προγραμματισμό και την ανάλυση δεδομένων\n",
    "\n",
    "Η γλώσσα προγραμματισμού Python είναι μια πολύ υψηλού επιπέδου Interpreted γλώσσα (δηλαδή δεν χρειάζεται Compilation αλλά τρέχει \"γραμμή-γραμμή\" (Script)).\n",
    "\n",
    "Μπορεί να χρησιμοποιηθεί και για Συναρτησιακό αλλα και για Αντικειμενοστραφή προγραμματισμό ενώ η ευκολοδιάβαστει δομή της είναι ιδανική για code reading.\n",
    "\n",
    "Είναι απολύτως δωρεάν και ανοιχτού κώδικα (open source) και υποστηρίζεται από μια μεγάλη κοινότητα προγραμματιστών και χρηστών (Community) δίνοντας της μεγαλύτερη ευελιξία/προσαρμοστικότητα και ταχύτητα ανάπτυξης σε σχέση με \"ανταγωνιστικές γλώσσες\".\n",
    "\n",
    "Λόγω της απουσίας compilation ο ίδιος κώδικας λειτουργεί πανομοιότυπα σε κάθε μηχάνημα ανεξαρτητώς αρχιτεκτονικής και λειτουργικού συστήματος. Βέβαια ακριβώς για τον ίδιο λόγο είναι αρκετά πιο άργη από compiled γλώσσες (C, Fortran κλπ)\n",
    "\n",
    "Παρακάτω θα παρουσιάσουμε "
   ]
  },
  {
   "cell_type": "markdown",
   "metadata": {},
   "source": [
    "### Τύποι αριθμητικών μεταβλητών\n",
    "* Ακέραιος **int**\n",
    "* Floating-point number **float** (αντίστοιχως της **double** στη C)\n",
    "* Μιγαδικός **complex**\n",
    "* Λογικός **boolean**\n",
    "\n",
    ">Στη Python δεν χρειάζεται να δηλώσουμε προηγουμένως τις μεταβλητές μας (με εξαίρεση τις **global**). Για να δηλώσουμε οτι μια μεταβλητή ειναι ακέραια απλά της δίνουμε μια αρχική ακέραια τιμή (βλ. παρακάτω τη μεταβλητή **a**)\n",
    "\n",
    ">Για να δηλώσουμε μια float μεταβλητή δίνουμε μια αρχική τιμή σε δεκαδική μορφή (βλ. παρακάτω τη μεταβλητή **b**).\n",
    "\n",
    ">Ο φανταστικός αριθμός i συμβολίζεται με **J**."
   ]
  },
  {
   "cell_type": "code",
   "execution_count": 1,
   "metadata": {
    "collapsed": false
   },
   "outputs": [
    {
     "name": "stdout",
     "output_type": "stream",
     "text": [
      "2\n",
      "2.0\n",
      "(1+3j)\n",
      "True\n"
     ]
    }
   ],
   "source": [
    "a=2 #intege\n",
    "b=2. #float\n",
    "c=1.+3.J\n",
    "d= 3>2\n",
    "print(a)\n",
    "print(b)\n",
    "print(c)\n",
    "print(d)"
   ]
  },
  {
   "cell_type": "markdown",
   "metadata": {},
   "source": [
    "### Containers\n",
    "Επίσης υπάρχουν και \"συνδυαστικές(?!)\" δομές δεδομένων (sequences). Η βασική δομή δεδομένων είναι η λίστα (**List**) δηλαδή η συλλογή διαφορετικών (και είδους) μεταβλητών. Η λίστα δηλώνεται μέσω του συμβολισμού **[ ]**.\n",
    "Μία λέξιλογική προταση (**string**) είναι ουσιαστικά μια λίστα γραμμάτων. \n",
    "\n",
    "Μπορούμε να ανατρέξουμε σε μια λίστα μέσω του αριθμου **index** δηλαδή ζητώντας το σημείο εκείνο όπου είναι αποθηκευμένη μεταβλητή μας ξεκινώντας απο το **0**. Δηλαδή αν η λίστα είναι η L, ζητάμε τη μεταβλητή που έχει αποθηκευθεί εντός της λίστα στο σημείο 4 μέσω της εντολής ```L[4]```. (*βλ. παράδειγμα παρακάτω*)\n",
    "\n",
    "Ένα \"λεξικό\" (**Dictionary**) είναι μία λίστα όπου αντί για index χρησιμοποιούμε ένα string. Αυτό είναι πολύ χρησίμο όταν καταχωρούμε πολλά (και διαφορετικά) δεδομένα σε μια λίστα και θέλουμε να τα καλέσουμε μέσω μιας λέξης κλειδί. πχ: ```H['time']```"
   ]
  },
  {
   "cell_type": "code",
   "execution_count": 2,
   "metadata": {
    "collapsed": false
   },
   "outputs": [
    {
     "data": {
      "text/plain": [
       "(1.0, 'a string', 0.0001, 'a string', [301.0, 2, 'a string'])"
      ]
     },
     "execution_count": 2,
     "metadata": {},
     "output_type": "execute_result"
    }
   ],
   "source": [
    "L = [1.,301.,a,'a string',1.e-4]\n",
    "L[0],L[3],L[-1],L[-2],L[1:4]"
   ]
  },
  {
   "cell_type": "code",
   "execution_count": 3,
   "metadata": {
    "collapsed": false
   },
   "outputs": [
    {
     "name": "stdout",
     "output_type": "stream",
     "text": [
      "a string\n"
     ]
    }
   ],
   "source": [
    "print L[-2]"
   ]
  },
  {
   "cell_type": "code",
   "execution_count": 4,
   "metadata": {
    "collapsed": false
   },
   "outputs": [
    {
     "data": {
      "text/plain": [
       "[[1.0, 301.0], [2, 'a string', 0.0001]]"
      ]
     },
     "execution_count": 4,
     "metadata": {},
     "output_type": "execute_result"
    }
   ],
   "source": [
    "G=[L[:2],L[2:]]\n",
    "G"
   ]
  },
  {
   "cell_type": "code",
   "execution_count": null,
   "metadata": {
    "collapsed": false
   },
   "outputs": [],
   "source": [
    "G[0][0]"
   ]
  },
  {
   "cell_type": "code",
   "execution_count": null,
   "metadata": {
    "collapsed": false
   },
   "outputs": [],
   "source": [
    "L[3][2:5]"
   ]
  },
  {
   "cell_type": "markdown",
   "metadata": {},
   "source": [
    "**Προσοχή** Μία λίστα δεν είναι ένας \"πίνακας\""
   ]
  },
  {
   "cell_type": "code",
   "execution_count": null,
   "metadata": {
    "collapsed": false
   },
   "outputs": [],
   "source": [
    "K=[2,4,5,6,7]\n",
    "2*K"
   ]
  },
  {
   "cell_type": "markdown",
   "metadata": {},
   "source": [
    "Ένα *string* είναι μια λίστα."
   ]
  },
  {
   "cell_type": "code",
   "execution_count": null,
   "metadata": {
    "collapsed": false
   },
   "outputs": [],
   "source": [
    "s='a bigger string'\n",
    "s[3:5]"
   ]
  },
  {
   "cell_type": "code",
   "execution_count": null,
   "metadata": {
    "collapsed": false
   },
   "outputs": [],
   "source": [
    "D = {'a':1,'b':2,'c':3}\n",
    "D['b']"
   ]
  },
  {
   "cell_type": "code",
   "execution_count": null,
   "metadata": {
    "collapsed": false
   },
   "outputs": [],
   "source": [
    "D['a']"
   ]
  },
  {
   "cell_type": "code",
   "execution_count": null,
   "metadata": {
    "collapsed": false
   },
   "outputs": [],
   "source": [
    "tup =(2.,3.,5.)\n",
    "tup[2]=4"
   ]
  },
  {
   "cell_type": "code",
   "execution_count": null,
   "metadata": {
    "collapsed": false
   },
   "outputs": [],
   "source": [
    "K"
   ]
  },
  {
   "cell_type": "code",
   "execution_count": null,
   "metadata": {
    "collapsed": false
   },
   "outputs": [],
   "source": [
    "K[1:4]=[2,3,9]"
   ]
  },
  {
   "cell_type": "code",
   "execution_count": null,
   "metadata": {
    "collapsed": false
   },
   "outputs": [],
   "source": [
    "K[0]=9.\n",
    "K"
   ]
  },
  {
   "cell_type": "code",
   "execution_count": null,
   "metadata": {
    "collapsed": false
   },
   "outputs": [],
   "source": [
    "K[:2]=[0,'a']\n",
    "K"
   ]
  },
  {
   "cell_type": "markdown",
   "metadata": {},
   "source": [
    "### Control Flow"
   ]
  },
  {
   "cell_type": "code",
   "execution_count": null,
   "metadata": {
    "collapsed": false
   },
   "outputs": [],
   "source": [
    "d=10 if a>4 else 4\n",
    "d"
   ]
  },
  {
   "cell_type": "code",
   "execution_count": null,
   "metadata": {
    "collapsed": false
   },
   "outputs": [],
   "source": [
    "a=2"
   ]
  },
  {
   "cell_type": "code",
   "execution_count": null,
   "metadata": {
    "collapsed": false
   },
   "outputs": [],
   "source": [
    "if a == 1:\n",
    "    print a\n",
    "elif a==2:\n",
    "    print a**2\n"
   ]
  },
  {
   "cell_type": "code",
   "execution_count": 39,
   "metadata": {
    "collapsed": false
   },
   "outputs": [
    {
     "data": {
      "text/plain": [
       "[9.0, 2.0, 3, 9, 7]"
      ]
     },
     "execution_count": 39,
     "metadata": {},
     "output_type": "execute_result"
    }
   ],
   "source": [
    "K[1]=2.\n",
    "K"
   ]
  },
  {
   "cell_type": "code",
   "execution_count": 38,
   "metadata": {
    "collapsed": false
   },
   "outputs": [
    {
     "name": "stdout",
     "output_type": "stream",
     "text": [
      "9.0\n",
      "2.0\n",
      "3\n",
      "9\n",
      "7\n"
     ]
    }
   ],
   "source": [
    "for i in K:\n",
    "    print i"
   ]
  },
  {
   "cell_type": "code",
   "execution_count": 40,
   "metadata": {
    "collapsed": false
   },
   "outputs": [
    {
     "data": {
      "text/plain": [
       "5"
      ]
     },
     "execution_count": 40,
     "metadata": {},
     "output_type": "execute_result"
    }
   ],
   "source": [
    "len(K)"
   ]
  },
  {
   "cell_type": "code",
   "execution_count": 42,
   "metadata": {
    "collapsed": false
   },
   "outputs": [
    {
     "data": {
      "text/plain": [
       "[0, 1, 2, 3, 4, 5, 6, 7, 8, 9]"
      ]
     },
     "execution_count": 42,
     "metadata": {},
     "output_type": "execute_result"
    }
   ],
   "source": [
    "range(10)"
   ]
  },
  {
   "cell_type": "code",
   "execution_count": 43,
   "metadata": {
    "collapsed": false
   },
   "outputs": [
    {
     "data": {
      "text/plain": [
       "[0, 1, 2, 3, 4]"
      ]
     },
     "execution_count": 43,
     "metadata": {},
     "output_type": "execute_result"
    }
   ],
   "source": [
    "range(len(K))"
   ]
  },
  {
   "cell_type": "code",
   "execution_count": 44,
   "metadata": {
    "collapsed": false
   },
   "outputs": [
    {
     "name": "stdout",
     "output_type": "stream",
     "text": [
      "0 9.0\n",
      "1 2.0\n",
      "2 3\n",
      "3 9\n",
      "4 7\n"
     ]
    }
   ],
   "source": [
    "for i in range(len(K)): \n",
    "    print i,K[i]\n"
   ]
  },
  {
   "cell_type": "code",
   "execution_count": 47,
   "metadata": {
    "collapsed": false
   },
   "outputs": [
    {
     "data": {
      "text/plain": [
       "<enumerate at 0x7f26d467ffa0>"
      ]
     },
     "execution_count": 47,
     "metadata": {},
     "output_type": "execute_result"
    }
   ],
   "source": [
    "enumerate(K)"
   ]
  },
  {
   "cell_type": "code",
   "execution_count": 48,
   "metadata": {
    "collapsed": false
   },
   "outputs": [
    {
     "name": "stdout",
     "output_type": "stream",
     "text": [
      "0 9.0\n",
      "1 2.0\n",
      "2 3\n",
      "3 9\n",
      "4 7\n"
     ]
    }
   ],
   "source": [
    "for index,value in enumerate(K):\n",
    "    print index,value"
   ]
  },
  {
   "cell_type": "markdown",
   "metadata": {},
   "source": [
    "### List Comprehensions"
   ]
  },
  {
   "cell_type": "code",
   "execution_count": 49,
   "metadata": {
    "collapsed": false
   },
   "outputs": [
    {
     "name": "stdout",
     "output_type": "stream",
     "text": [
      "[0, 1, 4, 9, 16]\n"
     ]
    }
   ],
   "source": [
    "lc=[i**2 for i in range(len(K))]\n",
    "print(lc)"
   ]
  },
  {
   "cell_type": "markdown",
   "metadata": {},
   "source": [
    "### Functions"
   ]
  },
  {
   "cell_type": "code",
   "execution_count": 50,
   "metadata": {
    "collapsed": true
   },
   "outputs": [],
   "source": [
    "def f(x):\n",
    "    return 3.*x**2"
   ]
  },
  {
   "cell_type": "code",
   "execution_count": 52,
   "metadata": {
    "collapsed": false
   },
   "outputs": [
    {
     "data": {
      "text/plain": [
       "[0.0, 3.0, 12.0, 27.0, 48.0]"
      ]
     },
     "execution_count": 52,
     "metadata": {},
     "output_type": "execute_result"
    }
   ],
   "source": [
    "[f(i) for i in range(len(K))]"
   ]
  },
  {
   "cell_type": "code",
   "execution_count": 54,
   "metadata": {
    "collapsed": false
   },
   "outputs": [
    {
     "ename": "TypeError",
     "evalue": "unsupported operand type(s) for ** or pow(): 'list' and 'int'",
     "output_type": "error",
     "traceback": [
      "\u001b[0;31m---------------------------------------------------------------------------\u001b[0m",
      "\u001b[0;31mTypeError\u001b[0m                                 Traceback (most recent call last)",
      "\u001b[0;32m<ipython-input-54-84ad44a8a7cd>\u001b[0m in \u001b[0;36m<module>\u001b[0;34m()\u001b[0m\n\u001b[0;32m----> 1\u001b[0;31m \u001b[0;34m[\u001b[0m\u001b[0;36m0.\u001b[0m\u001b[0;34m,\u001b[0m\u001b[0;36m3.\u001b[0m\u001b[0;34m]\u001b[0m\u001b[0;34m**\u001b[0m\u001b[0;36m3\u001b[0m\u001b[0;34m\u001b[0m\u001b[0m\n\u001b[0m",
      "\u001b[0;31mTypeError\u001b[0m: unsupported operand type(s) for ** or pow(): 'list' and 'int'"
     ]
    }
   ],
   "source": [
    "[0.,3.]**3"
   ]
  },
  {
   "cell_type": "code",
   "execution_count": 53,
   "metadata": {
    "collapsed": false
   },
   "outputs": [
    {
     "ename": "TypeError",
     "evalue": "unsupported operand type(s) for ** or pow(): 'list' and 'int'",
     "output_type": "error",
     "traceback": [
      "\u001b[0;31m---------------------------------------------------------------------------\u001b[0m",
      "\u001b[0;31mTypeError\u001b[0m                                 Traceback (most recent call last)",
      "\u001b[0;32m<ipython-input-53-f75ea70f60b4>\u001b[0m in \u001b[0;36m<module>\u001b[0;34m()\u001b[0m\n\u001b[0;32m----> 1\u001b[0;31m \u001b[0mf\u001b[0m\u001b[0;34m(\u001b[0m\u001b[0;34m[\u001b[0m\u001b[0;36m488\u001b[0m\u001b[0;34m,\u001b[0m\u001b[0;36m5\u001b[0m\u001b[0;34m]\u001b[0m\u001b[0;34m)\u001b[0m\u001b[0;34m\u001b[0m\u001b[0m\n\u001b[0m",
      "\u001b[0;32m<ipython-input-50-1ab977d2c735>\u001b[0m in \u001b[0;36mf\u001b[0;34m(x)\u001b[0m\n\u001b[1;32m      1\u001b[0m \u001b[0;32mdef\u001b[0m \u001b[0mf\u001b[0m\u001b[0;34m(\u001b[0m\u001b[0mx\u001b[0m\u001b[0;34m)\u001b[0m\u001b[0;34m:\u001b[0m\u001b[0;34m\u001b[0m\u001b[0m\n\u001b[0;32m----> 2\u001b[0;31m     \u001b[0;32mreturn\u001b[0m \u001b[0;36m3.\u001b[0m\u001b[0;34m*\u001b[0m\u001b[0mx\u001b[0m\u001b[0;34m**\u001b[0m\u001b[0;36m2\u001b[0m\u001b[0;34m\u001b[0m\u001b[0m\n\u001b[0m",
      "\u001b[0;31mTypeError\u001b[0m: unsupported operand type(s) for ** or pow(): 'list' and 'int'"
     ]
    }
   ],
   "source": [
    "f([488,5])"
   ]
  },
  {
   "cell_type": "code",
   "execution_count": null,
   "metadata": {
    "collapsed": false
   },
   "outputs": [],
   "source": [
    "f(K)"
   ]
  },
  {
   "cell_type": "markdown",
   "metadata": {},
   "source": [
    "# Βιβλιοθήκες/Πακέτα της Python\n",
    "\n",
    "\n",
    "## Εγκατάσταση Πακέτων\n",
    "### Package manager\n",
    "* Παράδειγμα για debian based systems (ubuntu, mint, elementary κλπ)\n",
    "``` bash\n",
    "sudo apt-get install numpy\n",
    "```\n",
    "\n",
    "### pip (Linux)\n",
    "* The PyPA (Python Packaging User Guide) recommended tool for installing Python packages.\n",
    "* Ανεξάρτητο σύστημα άρα και ανεξάρτητο από τους package manager της εκάστοτε διανομής.\n",
    "* Latest version\n",
    "* Compile from source\n",
    "* Παράδειγμα:\n",
    "``` bash\n",
    "sudo pip install numpy\n",
    "```\n"
   ]
  },
  {
   "cell_type": "markdown",
   "metadata": {},
   "source": [
    "## Numpy  (http://www.numpy.org/)\n",
    "\n",
    "NumPy is the fundamental package for scientific computing with Python. It contains among other things:\n",
    "* a powerful N-dimensional array object\n",
    "* sophisticated (broadcasting) functions\n",
    "* tools for integrating C/C++ and Fortran code\n",
    "* useful linear algebra, Fourier transform, and random number capabilities\n",
    "\n",
    "Besides its obvious scientific uses, NumPy can also be used as an efficient multi-dimensional container of generic data. Arbitrary data-types can be defined. This allows NumPy to seamlessly and speedily integrate with a wide variety of databases.\n",
    "``` python\n",
    "import numpy as np\n",
    "import numpy.random as rnd\n",
    "```"
   ]
  },
  {
   "cell_type": "code",
   "execution_count": 55,
   "metadata": {
    "collapsed": false
   },
   "outputs": [
    {
     "data": {
      "text/plain": [
       "array([ 9.,  2.,  3.,  9.,  7.])"
      ]
     },
     "execution_count": 55,
     "metadata": {},
     "output_type": "execute_result"
    }
   ],
   "source": [
    "import numpy as np\n",
    "a= np.array(K)\n",
    "a"
   ]
  },
  {
   "cell_type": "code",
   "execution_count": 56,
   "metadata": {
    "collapsed": false
   },
   "outputs": [
    {
     "data": {
      "text/plain": [
       "array([ 18.,   4.,   6.,  18.,  14.])"
      ]
     },
     "execution_count": 56,
     "metadata": {},
     "output_type": "execute_result"
    }
   ],
   "source": [
    "2.*a"
   ]
  },
  {
   "cell_type": "code",
   "execution_count": 57,
   "metadata": {
    "collapsed": true
   },
   "outputs": [],
   "source": [
    "def f(x):\n",
    "    \"\"\"\n",
    "    Docstring\n",
    "    Usage\n",
    "    Description of the function (Input and Output)\n",
    "    \"\"\"\n",
    "    return x**2"
   ]
  },
  {
   "cell_type": "code",
   "execution_count": 58,
   "metadata": {
    "collapsed": false
   },
   "outputs": [
    {
     "data": {
      "text/plain": [
       "array([ 81.,   4.,   9.,  81.,  49.])"
      ]
     },
     "execution_count": 58,
     "metadata": {},
     "output_type": "execute_result"
    }
   ],
   "source": [
    "f(a)"
   ]
  },
  {
   "cell_type": "code",
   "execution_count": 60,
   "metadata": {
    "collapsed": false
   },
   "outputs": [
    {
     "data": {
      "text/plain": [
       "3.141592653589793"
      ]
     },
     "execution_count": 60,
     "metadata": {},
     "output_type": "execute_result"
    }
   ],
   "source": [
    "np.pi"
   ]
  },
  {
   "cell_type": "code",
   "execution_count": 61,
   "metadata": {
    "collapsed": true
   },
   "outputs": [],
   "source": [
    "from numpy import arctan"
   ]
  },
  {
   "cell_type": "code",
   "execution_count": 62,
   "metadata": {
    "collapsed": false
   },
   "outputs": [
    {
     "data": {
      "text/plain": [
       "array([ 1.46013911,  1.10714872,  1.24904577,  1.46013911,  1.42889927])"
      ]
     },
     "execution_count": 62,
     "metadata": {},
     "output_type": "execute_result"
    }
   ],
   "source": [
    "arctan(K)"
   ]
  },
  {
   "cell_type": "code",
   "execution_count": 59,
   "metadata": {
    "collapsed": false
   },
   "outputs": [
    {
     "data": {
      "text/plain": [
       "array([ 1.46013911,  1.10714872,  1.24904577,  1.46013911,  1.42889927])"
      ]
     },
     "execution_count": 59,
     "metadata": {},
     "output_type": "execute_result"
    }
   ],
   "source": [
    "np.arctan(K)"
   ]
  },
  {
   "cell_type": "code",
   "execution_count": 63,
   "metadata": {
    "collapsed": false
   },
   "outputs": [
    {
     "data": {
      "text/plain": [
       "array([[ 1.,  1.],\n",
       "       [ 1.,  1.],\n",
       "       [ 1.,  1.],\n",
       "       [ 1.,  1.]])"
      ]
     },
     "execution_count": 63,
     "metadata": {},
     "output_type": "execute_result"
    }
   ],
   "source": [
    "a=np.ones((4,2))\n",
    "a"
   ]
  },
  {
   "cell_type": "code",
   "execution_count": 66,
   "metadata": {
    "collapsed": false
   },
   "outputs": [
    {
     "data": {
      "text/plain": [
       "array([[ 1.,  1.],\n",
       "       [ 1.,  1.],\n",
       "       [ 1.,  4.],\n",
       "       [ 1.,  1.]])"
      ]
     },
     "execution_count": 66,
     "metadata": {},
     "output_type": "execute_result"
    }
   ],
   "source": [
    "a[2,1]=4.\n",
    "a"
   ]
  },
  {
   "cell_type": "code",
   "execution_count": 69,
   "metadata": {
    "collapsed": false
   },
   "outputs": [
    {
     "data": {
      "text/plain": [
       "array([[ 0.23150515,  0.35133331],\n",
       "       [ 0.5367451 ,  0.70599424],\n",
       "       [ 0.88769851,  0.73072155],\n",
       "       [ 0.17004554,  0.29493915]])"
      ]
     },
     "execution_count": 69,
     "metadata": {},
     "output_type": "execute_result"
    }
   ],
   "source": [
    "g=np.random.rand(4,2)\n",
    "g"
   ]
  },
  {
   "cell_type": "code",
   "execution_count": 73,
   "metadata": {
    "collapsed": false
   },
   "outputs": [
    {
     "data": {
      "text/plain": [
       "array([[ 0.23150515,  0.35133331],\n",
       "       [ 0.5367451 ,  0.70599424],\n",
       "       [ 0.88769851,  0.73072155],\n",
       "       [ 0.17004554,  0.29493915]])"
      ]
     },
     "execution_count": 73,
     "metadata": {},
     "output_type": "execute_result"
    }
   ],
   "source": [
    "g[:,:]"
   ]
  },
  {
   "cell_type": "code",
   "execution_count": 74,
   "metadata": {
    "collapsed": false
   },
   "outputs": [],
   "source": [
    "a[:,0]=[0.,0.,0.,0.]"
   ]
  },
  {
   "cell_type": "code",
   "execution_count": 75,
   "metadata": {
    "collapsed": false
   },
   "outputs": [
    {
     "data": {
      "text/plain": [
       "array([[ 0.,  1.],\n",
       "       [ 0.,  1.],\n",
       "       [ 0.,  4.],\n",
       "       [ 0.,  1.]])"
      ]
     },
     "execution_count": 75,
     "metadata": {},
     "output_type": "execute_result"
    }
   ],
   "source": [
    "a"
   ]
  },
  {
   "cell_type": "code",
   "execution_count": 77,
   "metadata": {
    "collapsed": false
   },
   "outputs": [
    {
     "name": "stdout",
     "output_type": "stream",
     "text": [
      "[[ 2.  2.  2.]\n",
      " [ 2.  2.  2.]\n",
      " [ 2.  2.  2.]\n",
      " [ 2.  2.  2.]]\n",
      "[ 2.  2.]\n"
     ]
    }
   ],
   "source": [
    "aa=np.ones((4,3))*2.\n",
    "print aa\n",
    "print aa[1:3,1]"
   ]
  },
  {
   "cell_type": "code",
   "execution_count": 79,
   "metadata": {
    "collapsed": false
   },
   "outputs": [],
   "source": [
    "aa[1]=np.array([1,2,3])"
   ]
  },
  {
   "cell_type": "code",
   "execution_count": 80,
   "metadata": {
    "collapsed": false
   },
   "outputs": [
    {
     "data": {
      "text/plain": [
       "array([[ 2.,  2.,  2.],\n",
       "       [ 1.,  2.,  3.],\n",
       "       [ 2.,  2.,  2.],\n",
       "       [ 2.,  2.,  2.]])"
      ]
     },
     "execution_count": 80,
     "metadata": {},
     "output_type": "execute_result"
    }
   ],
   "source": [
    "aa"
   ]
  },
  {
   "cell_type": "code",
   "execution_count": 81,
   "metadata": {
    "collapsed": false
   },
   "outputs": [
    {
     "data": {
      "image/png": "[encoded data removed]",
      "text/plain": [
       "<IPython.core.display.Image object>"
      ]
     },
     "execution_count": 81,
     "metadata": {},
     "output_type": "execute_result"
    }
   ],
   "source": [
    "from IPython.display import Image\n",
    "Image('numpy_indexing.png')"
   ]
  },
  {
   "cell_type": "code",
   "execution_count": 82,
   "metadata": {
    "collapsed": false
   },
   "outputs": [
    {
     "data": {
      "text/plain": [
       "array([[ 2.,  2.,  2.],\n",
       "       [ 1.,  2.,  3.],\n",
       "       [ 2.,  2.,  2.],\n",
       "       [ 0.,  1.,  3.]])"
      ]
     },
     "execution_count": 82,
     "metadata": {},
     "output_type": "execute_result"
    }
   ],
   "source": [
    "aa[3]=np.array([0,1,3])\n",
    "aa"
   ]
  },
  {
   "cell_type": "code",
   "execution_count": 83,
   "metadata": {
    "collapsed": false
   },
   "outputs": [
    {
     "data": {
      "text/plain": [
       "array([[False, False, False],\n",
       "       [False, False,  True],\n",
       "       [False, False, False],\n",
       "       [False, False,  True]], dtype=bool)"
      ]
     },
     "execution_count": 83,
     "metadata": {},
     "output_type": "execute_result"
    }
   ],
   "source": [
    "aa>2"
   ]
  },
  {
   "cell_type": "code",
   "execution_count": 84,
   "metadata": {
    "collapsed": false
   },
   "outputs": [
    {
     "data": {
      "text/plain": [
       "array([ 3.,  3.])"
      ]
     },
     "execution_count": 84,
     "metadata": {},
     "output_type": "execute_result"
    }
   ],
   "source": [
    "aa[aa>2]"
   ]
  },
  {
   "cell_type": "code",
   "execution_count": 85,
   "metadata": {
    "collapsed": false
   },
   "outputs": [
    {
     "data": {
      "text/plain": [
       "array([[ 2.,  2.,  2.],\n",
       "       [ 1.,  2.,  0.],\n",
       "       [ 2.,  2.,  2.],\n",
       "       [ 0.,  1.,  0.]])"
      ]
     },
     "execution_count": 85,
     "metadata": {},
     "output_type": "execute_result"
    }
   ],
   "source": [
    "aa[aa>2]=0\n",
    "aa"
   ]
  },
  {
   "cell_type": "code",
   "execution_count": null,
   "metadata": {
    "collapsed": true
   },
   "outputs": [],
   "source": [
    "aa>2 && aa"
   ]
  },
  {
   "cell_type": "code",
   "execution_count": 88,
   "metadata": {
    "collapsed": false
   },
   "outputs": [
    {
     "data": {
      "text/plain": [
       "array([[False, False, False],\n",
       "       [False, False, False],\n",
       "       [False, False, False],\n",
       "       [False, False, False]], dtype=bool)"
      ]
     },
     "execution_count": 88,
     "metadata": {},
     "output_type": "execute_result"
    }
   ],
   "source": [
    "np.logical_and(aa>2,aa<1)"
   ]
  },
  {
   "cell_type": "code",
   "execution_count": 87,
   "metadata": {
    "collapsed": false
   },
   "outputs": [
    {
     "data": {
      "text/plain": [
       "array([ 0.,  0.,  0.])"
      ]
     },
     "execution_count": 87,
     "metadata": {},
     "output_type": "execute_result"
    }
   ],
   "source": [
    "aa[np.logical_or(aa>2,aa<1)]"
   ]
  },
  {
   "cell_type": "code",
   "execution_count": 90,
   "metadata": {
    "collapsed": false
   },
   "outputs": [
    {
     "data": {
      "text/plain": [
       "array([ 81.,   4.,   9.,  81.,  49.])"
      ]
     },
     "execution_count": 90,
     "metadata": {},
     "output_type": "execute_result"
    }
   ],
   "source": [
    "f(np.array(K))"
   ]
  },
  {
   "cell_type": "code",
   "execution_count": 91,
   "metadata": {
    "collapsed": false
   },
   "outputs": [
    {
     "data": {
      "text/plain": [
       "array([ 81.,   4.,   9.,  81.,  49.])"
      ]
     },
     "execution_count": 91,
     "metadata": {},
     "output_type": "execute_result"
    }
   ],
   "source": [
    "vectorized_f=np.vectorize(f)\n",
    "vectorized_f(K)"
   ]
  },
  {
   "cell_type": "markdown",
   "metadata": {},
   "source": [
    "## Scipy (http://www.scipy.org/)\n",
    "\n",
    "It provides many user-friendly and efficient numerical routines such as routines for numerical integration and optimization.\n",
    "\n",
    "```python\n",
    "from scipy.optimize import curve_fit\n",
    "```"
   ]
  },
  {
   "cell_type": "markdown",
   "metadata": {},
   "source": [
    "## Matplotlib (http://matplotlib.org/)\n",
    "matplotlib is a python 2D plotting library which produces publication quality figures in a variety of hardcopy formats and interactive environments across platforms. matplotlib can be used in python scripts, the python and ipython shell (ala MATLAB®* or Mathematica®†), web application servers, and six graphical user interface toolkits.\n",
    "\n",
    "* http://www.labri.fr/perso/nrougier/teaching/matplotlib/matplotlib.html"
   ]
  },
  {
   "cell_type": "code",
   "execution_count": 93,
   "metadata": {
    "collapsed": true
   },
   "outputs": [],
   "source": [
    "%matplotlib inline\n",
    "#%matplotlib notebook\n",
    "import matplotlib.pyplot as plt"
   ]
  },
  {
   "cell_type": "code",
   "execution_count": 97,
   "metadata": {
    "collapsed": false
   },
   "outputs": [
    {
     "data": {
      "text/plain": [
       "array([ 0. ,  0.1,  0.2,  0.3,  0.4,  0.5,  0.6,  0.7,  0.8,  0.9,  1. ,\n",
       "        1.1,  1.2,  1.3,  1.4,  1.5,  1.6,  1.7,  1.8,  1.9,  2. ,  2.1,\n",
       "        2.2,  2.3,  2.4,  2.5,  2.6,  2.7,  2.8,  2.9,  3. ,  3.1,  3.2,\n",
       "        3.3,  3.4,  3.5,  3.6,  3.7,  3.8,  3.9,  4. ,  4.1,  4.2,  4.3,\n",
       "        4.4,  4.5,  4.6,  4.7,  4.8,  4.9,  5. ,  5.1,  5.2,  5.3,  5.4,\n",
       "        5.5,  5.6,  5.7,  5.8,  5.9,  6. ,  6.1,  6.2,  6.3,  6.4,  6.5,\n",
       "        6.6,  6.7,  6.8,  6.9])"
      ]
     },
     "execution_count": 97,
     "metadata": {},
     "output_type": "execute_result"
    }
   ],
   "source": [
    "np.arange(0,7,0.1)"
   ]
  },
  {
   "cell_type": "code",
   "execution_count": 98,
   "metadata": {
    "collapsed": false
   },
   "outputs": [
    {
     "data": {
      "text/plain": [
       "array([ 0.        ,  0.07070707,  0.14141414,  0.21212121,  0.28282828,\n",
       "        0.35353535,  0.42424242,  0.49494949,  0.56565657,  0.63636364,\n",
       "        0.70707071,  0.77777778,  0.84848485,  0.91919192,  0.98989899,\n",
       "        1.06060606,  1.13131313,  1.2020202 ,  1.27272727,  1.34343434,\n",
       "        1.41414141,  1.48484848,  1.55555556,  1.62626263,  1.6969697 ,\n",
       "        1.76767677,  1.83838384,  1.90909091,  1.97979798,  2.05050505,\n",
       "        2.12121212,  2.19191919,  2.26262626,  2.33333333,  2.4040404 ,\n",
       "        2.47474747,  2.54545455,  2.61616162,  2.68686869,  2.75757576,\n",
       "        2.82828283,  2.8989899 ,  2.96969697,  3.04040404,  3.11111111,\n",
       "        3.18181818,  3.25252525,  3.32323232,  3.39393939,  3.46464646,\n",
       "        3.53535354,  3.60606061,  3.67676768,  3.74747475,  3.81818182,\n",
       "        3.88888889,  3.95959596,  4.03030303,  4.1010101 ,  4.17171717,\n",
       "        4.24242424,  4.31313131,  4.38383838,  4.45454545,  4.52525253,\n",
       "        4.5959596 ,  4.66666667,  4.73737374,  4.80808081,  4.87878788,\n",
       "        4.94949495,  5.02020202,  5.09090909,  5.16161616,  5.23232323,\n",
       "        5.3030303 ,  5.37373737,  5.44444444,  5.51515152,  5.58585859,\n",
       "        5.65656566,  5.72727273,  5.7979798 ,  5.86868687,  5.93939394,\n",
       "        6.01010101,  6.08080808,  6.15151515,  6.22222222,  6.29292929,\n",
       "        6.36363636,  6.43434343,  6.50505051,  6.57575758,  6.64646465,\n",
       "        6.71717172,  6.78787879,  6.85858586,  6.92929293,  7.        ])"
      ]
     },
     "execution_count": 98,
     "metadata": {},
     "output_type": "execute_result"
    }
   ],
   "source": [
    "X=np.linspace(0,7,100)\n",
    "X"
   ]
  },
  {
   "cell_type": "code",
   "execution_count": 99,
   "metadata": {
    "collapsed": false
   },
   "outputs": [
    {
     "data": {
      "text/plain": [
       "[<matplotlib.lines.Line2D at 0x7f26adbbd050>]"
      ]
     },
     "execution_count": 99,
     "metadata": {},
     "output_type": "execute_result"
    },
    {
     "data": {
      "image/png": "[encoded data removed]",
      "text/plain": [
       "<matplotlib.figure.Figure at 0x7f26adbbd210>"
      ]
     },
     "metadata": {},
     "output_type": "display_data"
    }
   ],
   "source": [
    "#fig = plt.figure(figsize=(10,10))\n",
    "plt.plot(X,X**2)\n",
    "plt.plot(X,X)"
   ]
  },
  {
   "cell_type": "code",
   "execution_count": 100,
   "metadata": {
    "collapsed": false
   },
   "outputs": [
    {
     "name": "stderr",
     "output_type": "stream",
     "text": [
      "/usr/local/lib/python2.7/dist-packages/ipykernel/__main__.py:9: RuntimeWarning: overflow encountered in square\n",
      "/usr/local/lib/python2.7/dist-packages/ipykernel/__main__.py:9: RuntimeWarning: invalid value encountered in square\n",
      "/usr/local/lib/python2.7/dist-packages/ipykernel/__main__.py:10: RuntimeWarning: overflow encountered in absolute\n",
      "/usr/local/lib/python2.7/dist-packages/ipykernel/__main__.py:10: RuntimeWarning: invalid value encountered in less\n"
     ]
    },
    {
     "data": {
      "text/plain": [
       "<matplotlib.image.AxesImage at 0x7f26ad9e54d0>"
      ]
     },
     "execution_count": 100,
     "metadata": {},
     "output_type": "execute_result"
    },
    {
     "data": {
      "image/png": "[encoded data removed]",
      "text/plain": [
       "<matplotlib.figure.Figure at 0x7f26adbb6c90>"
      ]
     },
     "metadata": {},
     "output_type": "display_data"
    }
   ],
   "source": [
    "X=np.linspace(-1.5,1.5,2000)\n",
    "Y=np.linspace(-2,2,2000)\n",
    "X,Y=np.meshgrid(X,Y)\n",
    "c=X+1J*Y\n",
    "ms=c*0.\n",
    "z=ms\n",
    "\n",
    "for i in range(20):\n",
    "    z=z**2+c\n",
    "ms=np.abs(z)<50\n",
    "fig = plt.figure()\n",
    "plt.imshow(np.abs(ms),cmap='viridis')"
   ]
  },
  {
   "cell_type": "markdown",
   "metadata": {},
   "source": [
    "## Pandas (http://pandas.pydata.org/)\n",
    "pandas is an open source, BSD-licensed library providing high-performance, easy-to-use data structures and data analysis tools for the Python programming language.\n",
    "\n",
    "```python\n",
    "import pandas as pd\n",
    "```"
   ]
  },
  {
   "cell_type": "markdown",
   "metadata": {},
   "source": [
    "## Sympy (http://www.sympy.org/)\n",
    "SymPy is a Python library for symbolic mathematics. It aims to become a full-featured computer algebra system (CAS) while keeping the code as simple as possible in order to be comprehensible and easily extensible. SymPy is written entirely in Python. \n",
    "```python\n",
    "import sympy as sm\n",
    "sm.init_printing()\n",
    "```\n",
    "\n"
   ]
  },
  {
   "cell_type": "markdown",
   "metadata": {},
   "source": []
  },
  {
   "cell_type": "markdown",
   "metadata": {},
   "source": [
    "## Jupyter Notebook (iPython)\n",
    "The Jupyter Notebook is a web application that allows you to create and share documents that contain live code, equations, visualizations and explanatory text. \n",
    "\n",
    "### Code cell\n",
    "παρακάτω\n",
    "### Markdown Cell\n",
    "* Latex support\n",
    "$$\n",
    "    \\begin{equation} \n",
    "    \\rho \\left(\\frac{\\partial u_x}{\\partial t} + u_x \\frac{\\partial u_x}{\\partial x} + u_y \\frac{\\partial u_x}{\\partial y} + u_z \\frac{\\partial u_x}{\\partial z}\\right) = -\\frac{\\partial p}{\\partial x} + \\mu \\left(\\frac{\\partial^2 u_x}{\\partial x^2} + \\frac{\\partial^2 u_x}{\\partial y^2} + \\frac{\\partial^2 u_x}{\\partial z^2}\\right) - \\mu \\frac{\\partial}{\\partial x} \\left( \\frac{\\partial u_x}{\\partial x} + \\frac{\\partial u_y}{\\partial y} + \\frac{\\partial u_z}{\\partial z} \\right) + \\rho g_x \n",
    "    \\end{equation}\n",
    "$$\n",
    "\n",
    "$$\n",
    "    \\begin{equation} \n",
    "    \\rho \\left(\\frac{\\partial u_y}{\\partial t} + u_x \\frac{\\partial u_y}{\\partial x} + u_y \\frac{\\partial u_y}{\\partial y} + u_z \\frac{\\partial u_y}{\\partial z}\\right) = -\\frac{\\partial p}{\\partial y} + \\mu \\left(\\frac{\\partial^2 u_y}{\\partial x^2} + \\frac{\\partial^2 u_y}{\\partial y^2} + \\frac{\\partial^2 u_y}{\\partial z^2}\\right) - \\mu \\frac{\\partial}{\\partial y} \\left( \\frac{\\partial u_x}{\\partial x} + \\frac{\\partial u_y}{\\partial y} + \\frac{\\partial u_z}{\\partial z} \\right) + \\rho g_y \n",
    "    \\end{equation}\n",
    "$$\n",
    "\n",
    "### Rich Display System\n",
    "```python\n",
    "from IPython.display import display, Image,YouTubeVideo\n",
    "\n",
    "```\n",
    "### Magic\n",
    "``` python\n",
    "%magic\n",
    "%lsmagic\n",
    "```"
   ]
  },
  {
   "cell_type": "code",
   "execution_count": null,
   "metadata": {
    "collapsed": true
   },
   "outputs": [],
   "source": []
  },
  {
   "cell_type": "code",
   "execution_count": 103,
   "metadata": {
    "collapsed": true
   },
   "outputs": [],
   "source": [
    "from mpl_toolkits.mplot3d import Axes3D\n",
    "import matplotlib.gridspec as gridspec\n",
    "import seaborn\n",
    "from tqdm import tqdm,tqdm_gui\n",
    "import sympy as sm\n",
    "import sympy.physics.vector as vc\n",
    "sm.init_printing()"
   ]
  },
  {
   "cell_type": "code",
   "execution_count": null,
   "metadata": {
    "collapsed": false
   },
   "outputs": [],
   "source": [
    "%magic\n",
    "#%lsmagic"
   ]
  },
  {
   "cell_type": "code",
   "execution_count": null,
   "metadata": {
    "collapsed": false
   },
   "outputs": [],
   "source": [
    "%edit"
   ]
  },
  {
   "cell_type": "code",
   "execution_count": 105,
   "metadata": {
    "collapsed": false
   },
   "outputs": [
    {
     "data": {
      "image/png": "[encoded data removed]",
      "text/latex": [
       "$$- \\frac{G M_\\odot}{r} + \\frac{0.5 p_\\phi^{2}}{r^{2}} + 0.5 p_{r}^{2}$$"
      ],
      "text/plain": [
       "                      2          \n",
       "  G⋅M_\\ȯ   0.5⋅p_\\phi          2\n",
       "- ─────── + ─────────── + 0.5⋅pᵣ \n",
       "     r            2              \n",
       "                 r               "
      ]
     },
     "execution_count": 105,
     "metadata": {},
     "output_type": "execute_result"
    }
   ],
   "source": [
    "r,u,pr,pu,G,Ms,a,e=sm.symbols('r,\\phi,p_r,p_\\phi,G,M_\\odot,a,e')\n",
    "H=pr**2/2.+pu**2/(2.*r**2)-G*Ms/r\n",
    "H"
   ]
  },
  {
   "cell_type": "code",
   "execution_count": 110,
   "metadata": {
    "collapsed": false
   },
   "outputs": [
    {
     "data": {
      "image/png": "[encoded data removed]",
      "text/latex": [
       "$$- \\frac{M_\\odot \\phi^{2}}{r} + \\frac{0.5 p_\\phi^{2}}{r^{2}} + 0.5 p_{r}^{2}$$"
      ],
      "text/plain": [
       "            2             2          \n",
       "  M_\\ȯ⋅\\phi    0.5⋅p_\\phi          2\n",
       "- ─────────── + ─────────── + 0.5⋅pᵣ \n",
       "       r              2              \n",
       "                     r               "
      ]
     },
     "execution_count": 110,
     "metadata": {},
     "output_type": "execute_result"
    }
   ],
   "source": [
    "H.subs({G:u**2})"
   ]
  },
  {
   "cell_type": "code",
   "execution_count": 106,
   "metadata": {
    "collapsed": false
   },
   "outputs": [
    {
     "data": {
      "image/png": "[encoded data removed]",
      "text/latex": [
       "$$\\left ( 1.0 p_{r}, \\quad \\frac{1.0 p_\\phi}{r^{2}}, \\quad - \\frac{G M_\\odot}{r^{2}} + \\frac{1.0 p_\\phi^{2}}{r^{3}}, \\quad 0\\right )$$"
      ],
      "text/plain": [
       "⎛                                          2   ⎞\n",
       "⎜        1.0⋅p_\\phi    G⋅M_\\ȯ   1.0⋅p_\\phi    ⎟\n",
       "⎜1.0⋅pᵣ, ──────────, - ─────── + ───────────, 0⎟\n",
       "⎜             2            2           3       ⎟\n",
       "⎝            r            r           r        ⎠"
      ]
     },
     "execution_count": 106,
     "metadata": {},
     "output_type": "execute_result"
    }
   ],
   "source": [
    "dotr=H.diff(pr)\n",
    "dotu=H.diff(pu)\n",
    "dotpr=-H.diff(r)\n",
    "dotpu=-H.diff(u)\n",
    "dotr,dotu,dotpr,dotpu"
   ]
  },
  {
   "cell_type": "code",
   "execution_count": 107,
   "metadata": {
    "collapsed": false
   },
   "outputs": [
    {
     "data": {
      "image/png": "[encoded data removed]",
      "text/latex": [
       "$$\\left ( a \\left(- e + 1.0\\right), \\quad 0.0, \\quad 0.0, \\quad \\sqrt{G M_\\odot a \\left(- e^{2} + 1.0\\right)}\\right )$$"
      ],
      "text/plain": [
       "⎛                           ________________________⎞\n",
       "⎜                          ╱           ⎛   2      ⎞ ⎟\n",
       "⎝a⋅(-e + 1.0), 0.0, 0.0, ╲╱  G⋅M_\\ȯ⋅a⋅⎝- e  + 1.0⎠ ⎠"
      ]
     },
     "execution_count": 107,
     "metadata": {},
     "output_type": "execute_result"
    }
   ],
   "source": [
    "pr0=sm.Float(0)\n",
    "u0=sm.Float(0)\n",
    "pu0=sm.sqrt(Ms*G*a*(1.-e**2))\n",
    "r0=a*(1.-e)\n",
    "r0,u0,pr0,pu0"
   ]
  },
  {
   "cell_type": "code",
   "execution_count": 113,
   "metadata": {
    "collapsed": false
   },
   "outputs": [],
   "source": [
    "sub={G*Ms:0.0172**2,a:1.0,e:0.0167}"
   ]
  },
  {
   "cell_type": "code",
   "execution_count": 114,
   "metadata": {
    "collapsed": false
   },
   "outputs": [
    {
     "data": {
      "text/plain": [
       "array([ 0.9833   ,  0.       ,  0.       ,  0.0171976])"
      ]
     },
     "execution_count": 114,
     "metadata": {},
     "output_type": "execute_result"
    }
   ],
   "source": [
    "Y0=np.array([r0.subs(sub),\n",
    "             u0.subs(sub),\n",
    "             pr0.subs(sub),\n",
    "             pu0.subs(sub)\n",
    "            ]).astype('float')\n",
    "Y0"
   ]
  },
  {
   "cell_type": "code",
   "execution_count": 115,
   "metadata": {
    "collapsed": false
   },
   "outputs": [],
   "source": [
    "dr = sm.lambdify((r,u,pr,pu),dotr.subs(sub1),\"numpy\")\n",
    "du = sm.lambdify((r,u,pr,pu),dotu.subs(sub1),\"numpy\")\n",
    "dpr = sm.lambdify((r,u,pr,pu),dotpr.subs(sub1),\"numpy\")\n",
    "dpu = sm.lambdify((r,u,pr,pu),dotpu.subs(sub1),\"numpy\")\n",
    "def dY(y,t):\n",
    "    a= np.array([\n",
    "            dr(y[0],y[1],y[2],y[3]),\n",
    "            du(y[0],y[1],y[2],y[3]),\n",
    "            dpr(y[0],y[1],y[2],y[3]),\n",
    "            dpu(y[0],y[1],y[2],y[3])\n",
    "        ])\n",
    "    return a"
   ]
  },
  {
   "cell_type": "code",
   "execution_count": 119,
   "metadata": {
    "collapsed": false
   },
   "outputs": [
    {
     "data": {
      "image/png": "[encoded data removed]",
      "text/latex": [
       "$$2.0$$"
      ],
      "text/plain": [
       "2.0"
      ]
     },
     "execution_count": 119,
     "metadata": {},
     "output_type": "execute_result"
    }
   ],
   "source": [
    "dr(0,1,2,0)"
   ]
  },
  {
   "cell_type": "code",
   "execution_count": 120,
   "metadata": {
    "collapsed": true
   },
   "outputs": [],
   "source": [
    "from scipy.integrate import odeint"
   ]
  },
  {
   "cell_type": "code",
   "execution_count": 121,
   "metadata": {
    "collapsed": false
   },
   "outputs": [
    {
     "name": "stdout",
     "output_type": "stream",
     "text": [
      "CPU times: user 640 ms, sys: 40 ms, total: 680 ms\n",
      "Wall time: 712 ms\n"
     ]
    },
    {
     "name": "stderr",
     "output_type": "stream",
     "text": [
      "/usr/local/lib/python2.7/dist-packages/scipy/integrate/odepack.py:221: ODEintWarning: Integration successful.\n",
      "  warnings.warn(warning_msg, ODEintWarning)\n"
     ]
    }
   ],
   "source": [
    "%%time \n",
    "t=np.arange(0.,50.*365.,3./365.)\n",
    "sol=odeint(dY,Y0,t,rtol=1e-12,atol=1e-13,printmessg=True)\n",
    "rt,ut=sol[:,0],sol[:,1]\n",
    "prt,put=sol[:,2],sol[:,3]"
   ]
  },
  {
   "cell_type": "code",
   "execution_count": 122,
   "metadata": {
    "collapsed": false
   },
   "outputs": [
    {
     "data": {
      "text/plain": [
       "<matplotlib.legend.Legend at 0x7f2692cd4910>"
      ]
     },
     "execution_count": 122,
     "metadata": {},
     "output_type": "execute_result"
    },
    {
     "data": {
      "image/png": "[encoded data removed]",
      "text/plain": [
       "<matplotlib.figure.Figure at 0x7f2694fe3410>"
      ]
     },
     "metadata": {},
     "output_type": "display_data"
    }
   ],
   "source": [
    "x=rt*np.cos(ut)\n",
    "y=rt*np.sin(ut)\n",
    "\n",
    "#True Orbit\n",
    "ee=0.0167\n",
    "phi=np.linspace(0.,2.*np.pi,len(x))\n",
    "rr=(1.-ee**2)/(1.+ee*np.cos(phi))\n",
    "xx=rr*np.cos(phi)\n",
    "yy=rr*np.sin(phi)\n",
    "\n",
    "fig=plt.figure(figsize=(16,12))\n",
    "gs=gridspec.GridSpec(3,4)\n",
    "ax1=plt.subplot(gs[0:2,0:2])\n",
    "ax1.plot(x,y,label='Earth Orbit (numerical)')\n",
    "ax1.plot([0],[0],'o',label='Sun Position')\n",
    "ax1.axis(xmin=-1.3,xmax=1.3,ymin=-1.3,ymax=1.3)\n",
    "ax1.set_ylabel('Y Position (au)')\n",
    "ax1.set_xlabel('X Position (au)')\n",
    "ax1.plot(xx,yy,label='Earth Orbit (true)',linestyle='--')\n",
    "ax1.legend(loc='best')\n",
    "ax2=plt.subplot(gs[2,:])\n",
    "#ax2.plot(T,vx,label='X Velocity')\n",
    "#ax2.plot(T,vy,label='Y Velocity')\n",
    "ax2.plot(t,np.abs(rt-rr),label='Error')\n",
    "ax2.set_ylabel('Difference (au)')\n",
    "ax2.set_xlabel('Time (days)')\n",
    "ax2.legend(loc='best')"
   ]
  },
  {
   "cell_type": "code",
   "execution_count": null,
   "metadata": {
    "collapsed": true
   },
   "outputs": [],
   "source": []
  }
 ],
 "metadata": {
  "kernelspec": {
   "display_name": "Python 2",
   "language": "python",
   "name": "python2"
  },
  "language_info": {
   "codemirror_mode": {
    "name": "ipython",
    "version": 2
   },
   "file_extension": ".py",
   "mimetype": "text/x-python",
   "name": "python",
   "nbconvert_exporter": "python",
   "pygments_lexer": "ipython2",
   "version": "2.7.12+"
  }
 },
 "nbformat": 4,
 "nbformat_minor": 0
}
