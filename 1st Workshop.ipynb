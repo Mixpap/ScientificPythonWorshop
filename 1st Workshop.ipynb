{
 "cells": [
  {
   "cell_type": "code",
   "execution_count": 2,
   "metadata": {
    "collapsed": false,
    "deletable": true,
    "editable": true
   },
   "outputs": [],
   "source": [
    "import matplotlib.pyplot as plt #Βιβλιοθήκη γραφικών και λέμε στο Jupyterνα κάνει Render τα γραφικά μέσα στο Notebook\n",
    "%matplotlib inline \n",
    "import numpy as np #Βιβλιοθήκη Αριθμητικών συναρτήσεων "
   ]
  },
  {
   "cell_type": "markdown",
   "metadata": {
    "collapsed": false,
    "deletable": true,
    "editable": true
   },
   "source": [
    "### Παράδειγμα Δημιουργίας γραφικών"
   ]
  },
  {
   "cell_type": "code",
   "execution_count": 3,
   "metadata": {
    "collapsed": false,
    "deletable": true,
    "editable": true
   },
   "outputs": [
    {
     "data": {
      "text/plain": [
       "<matplotlib.text.Text at 0x7fc4bf83e690>"
      ]
     },
     "execution_count": 3,
     "metadata": {},
     "output_type": "execute_result"
    },
    {
     "data": {
      "image/png": "[encoded data removed]",
      "text/plain": [
       "<matplotlib.figure.Figure at 0x7fc4c1887150>"
      ]
     },
     "metadata": {},
     "output_type": "display_data"
    }
   ],
   "source": [
    "xx=np.linspace(0.,2.*np.pi,200) #Δημιουργούμε ένα ομοιογενή χώρο 200 στοιχείων απο 0 έως 2π\n",
    "plt.plot(xx,np.sin(xx)) #Εκτυπώνουμε τα σημεία (x,sin(x)) χρησιμοποιώντας την συνάρτηση sin() της Numpy\n",
    "plt.xlabel('X')\n",
    "plt.ylabel('Y')"
   ]
  },
  {
   "cell_type": "code",
   "execution_count": 4,
   "metadata": {
    "collapsed": false,
    "deletable": true,
    "editable": true
   },
   "outputs": [
    {
     "name": "stdout",
     "output_type": "stream",
     "text": [
      "1st Workshop.ipynb  README.md  SN_d_tot_V2.0.csv  solar-flux.csv\r\n"
     ]
    }
   ],
   "source": [
    "!ls #Τρέχουμε την εντολή του bash (linux) ls μέσα από το notebook"
   ]
  },
  {
   "cell_type": "code",
   "execution_count": 5,
   "metadata": {
    "collapsed": false,
    "deletable": true,
    "editable": true
   },
   "outputs": [
    {
     "name": "stdout",
     "output_type": "stream",
     "text": [
      "1818;01;01;1818.001;  -1; -1.0;   0;1\r\n",
      "1818;01;02;1818.004;  -1; -1.0;   0;1\r\n",
      "1818;01;03;1818.007;  -1; -1.0;   0;1\r\n",
      "1818;01;04;1818.010;  -1; -1.0;   0;1\r\n",
      "1818;01;05;1818.012;  -1; -1.0;   0;1\r\n",
      "1818;01;06;1818.015;  -1; -1.0;   0;1\r\n",
      "1818;01;07;1818.018;  -1; -1.0;   0;1\r\n",
      "1818;01;08;1818.021;  65; 10.2;   1;1\r\n",
      "1818;01;09;1818.023;  -1; -1.0;   0;1\r\n",
      "1818;01;10;1818.026;  -1; -1.0;   0;1\r\n"
     ]
    }
   ],
   "source": [
    "!head SN_d_tot_V2.0.csv #Η εντολή head εκτυπώνει τα πρώτα στοιχεία του αρχείου SN_d_tot_V2.0.csv"
   ]
  },
  {
   "cell_type": "code",
   "execution_count": 6,
   "metadata": {
    "collapsed": false,
    "deletable": true,
    "editable": true
   },
   "outputs": [
    {
     "data": {
      "text/plain": [
       "array([[  1.81800000e+03,   1.00000000e+00,   1.00000000e+00, ...,\n",
       "         -1.00000000e+00,   0.00000000e+00,   1.00000000e+00],\n",
       "       [  1.81800000e+03,   1.00000000e+00,   2.00000000e+00, ...,\n",
       "         -1.00000000e+00,   0.00000000e+00,   1.00000000e+00],\n",
       "       [  1.81800000e+03,   1.00000000e+00,   3.00000000e+00, ...,\n",
       "         -1.00000000e+00,   0.00000000e+00,   1.00000000e+00],\n",
       "       ..., \n",
       "       [  2.01700000e+03,   2.00000000e+00,   2.60000000e+01, ...,\n",
       "          2.80000000e+00,   1.10000000e+01,   0.00000000e+00],\n",
       "       [  2.01700000e+03,   2.00000000e+00,   2.70000000e+01, ...,\n",
       "          3.00000000e+00,   1.90000000e+01,   0.00000000e+00],\n",
       "       [  2.01700000e+03,   2.00000000e+00,   2.80000000e+01, ...,\n",
       "          5.00000000e+00,   1.40000000e+01,   0.00000000e+00]])"
      ]
     },
     "execution_count": 6,
     "metadata": {},
     "output_type": "execute_result"
    }
   ],
   "source": [
    "A=np.loadtxt('SN_d_tot_V2.0.csv',delimiter=';') #Εισάγουμε τα δεδομένα μέσα σε ένα δισδιάστατο πίνακα (A)\n",
    "A"
   ]
  },
  {
   "cell_type": "code",
   "execution_count": 7,
   "metadata": {
    "collapsed": false,
    "deletable": true,
    "editable": true
   },
   "outputs": [],
   "source": [
    "t=A[:,3] #Η τέταρτη στήλη είναι ο χρόνος παρατήρησης (σε δεκαδική μορφή)\n",
    "s=A[:,4] #Η πέμπτη στήλη είναι ο αριθμός των κηλίδων"
   ]
  },
  {
   "cell_type": "code",
   "execution_count": 8,
   "metadata": {
    "collapsed": false,
    "deletable": true,
    "editable": true
   },
   "outputs": [
    {
     "data": {
      "text/plain": [
       "72743"
      ]
     },
     "execution_count": 8,
     "metadata": {},
     "output_type": "execute_result"
    }
   ],
   "source": [
    "N=s.shape[0] #Αριθμός παρατηρήσερων\n",
    "N"
   ]
  },
  {
   "cell_type": "markdown",
   "metadata": {
    "deletable": true,
    "editable": true
   },
   "source": [
    "## Χρήση του αλγορίθμου FFT\n",
    "(https://en.wikipedia.org/wiki/Fast_Fourier_transform) \n",
    "\n",
    "Μέσω του αλγορίθμού FFT που εμπεριέχεται στη βιβλιοθήκη numpy.fft [1] θα υπολογίσουμε το διακριτό μετασχηματισμό fourier της χρονοσειράς s (αριθμός κηλίδων) \n",
    "$$\n",
    "{\\displaystyle X_{k}=\\sum _{n=0}^{N-1}x_{n}e^{-i2\\pi kn/N}\\qquad k=0,\\dots ,N-1.}\n",
    "$$\n",
    "\n",
    "[1] Cooley, James W., and John W. Tukey, 1965, \"An algorithm for the\n",
    "        machine calculation of complex Fourier series,\" *Math. Comput.*\n",
    "        19: 297-301.\n",
    "        https://en.wikipedia.org/wiki/Cooley%E2%80%93Tukey_FFT_algorithm"
   ]
  },
  {
   "cell_type": "code",
   "execution_count": 9,
   "metadata": {
    "collapsed": false,
    "deletable": true,
    "editable": true
   },
   "outputs": [
    {
     "name": "stdout",
     "output_type": "stream",
     "text": [
      "Χρονική διαφορά ανάμεσα στη παρατήρηση 400 και 399: 0.0020\n"
     ]
    }
   ],
   "source": [
    "dt=t[400]-t[399] #Χρονική διαφορά ανάμεσα σε δύο παρατηρήσεις (δεκαδική μορφή)\n",
    "print('Χρονική διαφορά ανάμεσα στη παρατήρηση 400 και 399: {:.4f}'.format(dt)) #Εκτύπωσε τη (μεχρι 4 δεκαδικα)\n",
    "freq=np.fft.fftfreq(N,d=dt) #Χώρος συχνοτήτων για τις συγκεκριμένες παρατηρήσεις μέσω της βιβλιοθηκης fft της numpy\n",
    "fs=np.abs(np.fft.fft(s))/N  #Πλατος του σήματος για τις παραπάνω συχνότητες"
   ]
  },
  {
   "cell_type": "code",
   "execution_count": 10,
   "metadata": {
    "collapsed": false,
    "deletable": true,
    "editable": true
   },
   "outputs": [
    {
     "name": "stderr",
     "output_type": "stream",
     "text": [
      "/usr/local/lib/python2.7/dist-packages/ipykernel/__main__.py:1: RuntimeWarning: divide by zero encountered in divide\n",
      "  if __name__ == '__main__':\n"
     ]
    },
    {
     "data": {
      "text/plain": [
       "[<matplotlib.lines.Line2D at 0x7fc4be2a3b50>]"
      ]
     },
     "execution_count": 10,
     "metadata": {},
     "output_type": "execute_result"
    },
    {
     "data": {
      "image/png": "[encoded data removed]",
      "text/plain": [
       "<matplotlib.figure.Figure at 0x7fc4c18b1cd0>"
      ]
     },
     "metadata": {},
     "output_type": "display_data"
    }
   ],
   "source": [
    "plt.plot(1./freq,fs) #Διάγραμμα του πλάτους των συχνοτήτων για κάθε περίοδο"
   ]
  },
  {
   "cell_type": "code",
   "execution_count": 11,
   "metadata": {
    "collapsed": false,
    "deletable": true,
    "editable": true
   },
   "outputs": [
    {
     "data": {
      "text/plain": [
       "(0.0, 20)"
      ]
     },
     "execution_count": 11,
     "metadata": {},
     "output_type": "execute_result"
    },
    {
     "data": {
      "image/png": "[encoded data removed]",
      "text/plain": [
       "<matplotlib.figure.Figure at 0x7fc4bf831090>"
      ]
     },
     "metadata": {},
     "output_type": "display_data"
    }
   ],
   "source": [
    "plt.plot(1./freq[freq>0],fs[freq>0]) #Κρατάμε μόνο τις τιμές των θετικών συχνοτήτων \n",
    "plt.xlim(None,20) #Περιόρισε το διάγραμμα μέχρι τη περίοδο 20 ετών"
   ]
  },
  {
   "cell_type": "code",
   "execution_count": 12,
   "metadata": {
    "collapsed": false,
    "deletable": true,
    "editable": true
   },
   "outputs": [
    {
     "data": {
      "text/plain": [
       "8.5579999997976302"
      ]
     },
     "execution_count": 12,
     "metadata": {},
     "output_type": "execute_result"
    }
   ],
   "source": [
    "Maxf= 1./freq[fs[freq>0].argmax()] #Υπολόγισε τη περίοδο για την οποία έχουμε μέγιστο\n",
    "Maxf"
   ]
  },
  {
   "cell_type": "markdown",
   "metadata": {
    "deletable": true,
    "editable": true
   },
   "source": [
    "Η παραπάνω ανάλυση μας δίνει μια περίοδο των 8.558 ετών(?!). Μήπως το dt δεν είναι πάντα το ίδιο."
   ]
  },
  {
   "cell_type": "code",
   "execution_count": 13,
   "metadata": {
    "collapsed": false,
    "deletable": true,
    "editable": true
   },
   "outputs": [
    {
     "name": "stdout",
     "output_type": "stream",
     "text": [
      "Χρονική διαφορά ανάμεσα στη παρατήρηση 40 και 39: 0.0030\n",
      "Νέα Μέγιστη τιμή 12.837 έτη\n"
     ]
    },
    {
     "data": {
      "image/png": "[encoded data removed]",
      "text/plain": [
       "<matplotlib.figure.Figure at 0x7fc4becc3c10>"
      ]
     },
     "metadata": {},
     "output_type": "display_data"
    }
   ],
   "source": [
    "dt=t[40]-t[39]\n",
    "print('Χρονική διαφορά ανάμεσα στη παρατήρηση 40 και 39: {:.4f}'.format(dt))\n",
    "freq=np.fft.fftfreq(N,d=dt)\n",
    "fs=np.abs(np.fft.fft(s))/N\n",
    "\n",
    "plt.plot(1./freq[freq>0],fs[freq>0])\n",
    "plt.xlim(None,20)\n",
    "Maxf= 1./freq[fs[freq>0].argmax()]\n",
    "print('Νέα Μέγιστη τιμή {:.3f} έτη'.format(Maxf)) "
   ]
  },
  {
   "cell_type": "markdown",
   "metadata": {
    "deletable": true,
    "editable": true
   },
   "source": [
    "Παρατηρούμε λοιπόν οτι υπαρχουν διαφορετικες χρονικές περίοδοι ανα παρατήρηση.\n"
   ]
  },
  {
   "cell_type": "markdown",
   "metadata": {
    "deletable": true,
    "editable": true
   },
   "source": [
    "### List Comprehensions\n",
    "List Comprehension ονομάζεται η διαδικασία δημιουργίας συνόλων αντικειμένων (δηλαδή μια λίστα) μέσω επεξεργασίας άλλων λιστών. Η σύνταξη μοιάζει περίπου με τη μαθηματική σύνταξη ορισμού κάποιως συνόλων.\n",
    "Για παράδειγμα η List Comprehension του $\\{x^2 \\mid x \\in [0,10] \\}$ είναι η παρακάτω:"
   ]
  },
  {
   "cell_type": "code",
   "execution_count": 14,
   "metadata": {
    "collapsed": false,
    "deletable": true,
    "editable": true
   },
   "outputs": [
    {
     "data": {
      "text/plain": [
       "[0.0,\n",
       " 1.2345679012345681,\n",
       " 4.9382716049382722,\n",
       " 11.111111111111112,\n",
       " 19.753086419753089,\n",
       " 30.864197530864196,\n",
       " 44.44444444444445,\n",
       " 60.493827160493836,\n",
       " 79.012345679012356,\n",
       " 100.0]"
      ]
     },
     "execution_count": 14,
     "metadata": {},
     "output_type": "execute_result"
    }
   ],
   "source": [
    "[i**2 for i in np.linspace(0,10,10)]"
   ]
  },
  {
   "cell_type": "markdown",
   "metadata": {
    "collapsed": false,
    "deletable": true,
    "editable": true
   },
   "source": [
    "Μέ τη βοήθιεα ενός List Comprehension θα φτιάξουμε ένα πίνακα με τις διαφορές των χρόνων των παρατήρησεων, με μέγεθος $N-1$"
   ]
  },
  {
   "cell_type": "code",
   "execution_count": 15,
   "metadata": {
    "collapsed": false,
    "deletable": true,
    "editable": true
   },
   "outputs": [
    {
     "data": {
      "text/plain": [
       "array([ 0.003,  0.003,  0.003, ...,  0.003,  0.003,  0.002])"
      ]
     },
     "execution_count": 15,
     "metadata": {},
     "output_type": "execute_result"
    }
   ],
   "source": [
    "dts=np.array([t[i]-t[i-1] for i  in range(1,N)])\n",
    "dts"
   ]
  },
  {
   "cell_type": "code",
   "execution_count": 16,
   "metadata": {
    "collapsed": false,
    "deletable": true,
    "editable": true
   },
   "outputs": [
    {
     "data": {
      "text/plain": [
       "[<matplotlib.lines.Line2D at 0x7fc4be2601d0>]"
      ]
     },
     "execution_count": 16,
     "metadata": {},
     "output_type": "execute_result"
    },
    {
     "data": {
      "image/png": "[encoded data removed]",
      "text/plain": [
       "<matplotlib.figure.Figure at 0x7fc4becc3d90>"
      ]
     },
     "metadata": {},
     "output_type": "display_data"
    }
   ],
   "source": [
    "plt.plot(dts)"
   ]
  },
  {
   "cell_type": "markdown",
   "metadata": {
    "deletable": true,
    "editable": true
   },
   "source": [
    "Από το παραπάνω διάγραμμα βλεπουμε ότι οι χρονικές διαφορές αλλάζουν με τιμές από 0.002 έως 0.003, καλύτερα βλέπουμε τη διακύμανση μέσω ενός ιστογράμματος εντολή hist της matplotlib.pyplot."
   ]
  },
  {
   "cell_type": "code",
   "execution_count": 17,
   "metadata": {
    "collapsed": false,
    "deletable": true,
    "editable": true
   },
   "outputs": [
    {
     "data": {
      "text/plain": [
       "(array([ 19067.,      0.,      0.,      0.,      0.,      0.,      0.,\n",
       "             0.,      0.,  53675.]),\n",
       " array([ 0.002 ,  0.0021,  0.0022,  0.0023,  0.0024,  0.0025,  0.0026,\n",
       "         0.0027,  0.0028,  0.0029,  0.003 ]),\n",
       " <a list of 10 Patch objects>)"
      ]
     },
     "execution_count": 17,
     "metadata": {},
     "output_type": "execute_result"
    },
    {
     "data": {
      "image/png": "[encoded data removed]",
      "text/plain": [
       "<matplotlib.figure.Figure at 0x7fc4be251250>"
      ]
     },
     "metadata": {},
     "output_type": "display_data"
    }
   ],
   "source": [
    "plt.hist(dts)"
   ]
  },
  {
   "cell_type": "markdown",
   "metadata": {
    "deletable": true,
    "editable": true
   },
   "source": [
    "Για να χρησιμοποιήσουμε την FFT θα πρέπει τα χρονικά διαστήματα ανάμεσα στις παρατηρήσεις μας να είναι σταθερά. Έτσι σε πρώτη προσέγγιση μπορούμε να αναδημιουργήσουμε το σήμα μας μέσω μιας γραμμικής παρεμβολής (interpolation). Η βιβλιοθήκη scipy περιέχει πολλές εφαρμογές παρεμβολής, εμεις θα δοκιμάσουμε τη γραμμική (παρότι μπορεί να μην είναι ιδανική για το παράδειγμα μας)"
   ]
  },
  {
   "cell_type": "code",
   "execution_count": 18,
   "metadata": {
    "collapsed": true,
    "deletable": true,
    "editable": true
   },
   "outputs": [],
   "source": [
    "from scipy.interpolate import interp1d"
   ]
  },
  {
   "cell_type": "code",
   "execution_count": 19,
   "metadata": {
    "collapsed": false,
    "deletable": true,
    "editable": true
   },
   "outputs": [],
   "source": [
    "s2=interp1d(t,s) #Δημιουργία ενος interpolated \"συνεχούς\" σήματος με βάση τα δεδομένα (t,s)\n",
    "t2=np.linspace(t[0],t[-1],N) #Δημιουργία ενός \"συνεχούς\" ισοχρονικών διαστημάτων"
   ]
  },
  {
   "cell_type": "code",
   "execution_count": 20,
   "metadata": {
    "collapsed": false,
    "deletable": true,
    "editable": true
   },
   "outputs": [
    {
     "data": {
      "text/plain": [
       "array([ -1.        ,  -1.        ,  -1.        , ...,  37.04847268,\n",
       "        45.5403939 ,  59.        ])"
      ]
     },
     "execution_count": 20,
     "metadata": {},
     "output_type": "execute_result"
    }
   ],
   "source": [
    "s2(t2)"
   ]
  },
  {
   "cell_type": "code",
   "execution_count": 21,
   "metadata": {
    "collapsed": false,
    "deletable": true,
    "editable": true
   },
   "outputs": [
    {
     "data": {
      "text/plain": [
       "[<matplotlib.lines.Line2D at 0x7fc4b64e4850>]"
      ]
     },
     "execution_count": 21,
     "metadata": {},
     "output_type": "execute_result"
    },
    {
     "data": {
      "image/png": "[encoded data removed]",
      "text/plain": [
       "<matplotlib.figure.Figure at 0x7fc4b64c0910>"
      ]
     },
     "metadata": {},
     "output_type": "display_data"
    }
   ],
   "source": [
    "plt.plot(t2,s2(t2))"
   ]
  },
  {
   "cell_type": "code",
   "execution_count": 25,
   "metadata": {
    "collapsed": false,
    "deletable": true,
    "editable": true
   },
   "outputs": [
    {
     "data": {
      "text/plain": [
       "[<matplotlib.lines.Line2D at 0x7fc4b631eed0>]"
      ]
     },
     "execution_count": 25,
     "metadata": {},
     "output_type": "execute_result"
    },
    {
     "data": {
      "image/png": "[encoded data removed]",
      "text/plain": [
       "<matplotlib.figure.Figure at 0x7fc4b64258d0>"
      ]
     },
     "metadata": {},
     "output_type": "display_data"
    }
   ],
   "source": [
    "dts2=[t2[i]-t2[i-1] for i  in range(1,N)]\n",
    "plt.plot(dts2)"
   ]
  },
  {
   "cell_type": "code",
   "execution_count": 23,
   "metadata": {
    "collapsed": false,
    "deletable": true,
    "editable": true
   },
   "outputs": [
    {
     "name": "stdout",
     "output_type": "stream",
     "text": [
      "0.00273788182881\n",
      "11.7153963455\n"
     ]
    },
    {
     "data": {
      "image/png": "[encoded data removed]",
      "text/plain": [
       "<matplotlib.figure.Figure at 0x7fc4b6274290>"
      ]
     },
     "metadata": {},
     "output_type": "display_data"
    }
   ],
   "source": [
    "dt=t2[4]-t2[3]\n",
    "print(dt)\n",
    "freq=np.fft.fftfreq(N,d=dt)\n",
    "fs=np.abs(np.fft.fft(s2(t)))/s.shape[0]\n",
    "plt.plot(1./freq[freq>0],fs[freq>0])\n",
    "plt.xlim(None,20)\n",
    "print(1./freq[fs[freq>0].argmax()])"
   ]
  }
 ],
 "metadata": {
  "kernelspec": {
   "display_name": "Python 2",
   "language": "python",
   "name": "python2"
  },
  "language_info": {
   "codemirror_mode": {
    "name": "ipython",
    "version": 2
   },
   "file_extension": ".py",
   "mimetype": "text/x-python",
   "name": "python",
   "nbconvert_exporter": "python",
   "pygments_lexer": "ipython2",
   "version": "2.7.12+"
  }
 },
 "nbformat": 4,
 "nbformat_minor": 0
}
